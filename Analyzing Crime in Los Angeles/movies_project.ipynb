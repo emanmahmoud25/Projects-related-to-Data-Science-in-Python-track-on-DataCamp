{
 "cells": [
  {
   "cell_type": "code",
   "execution_count": 6,
   "id": "9aa7f722",
   "metadata": {},
   "outputs": [
    {
     "data": {
      "text/html": [
       "<div>\n",
       "<style scoped>\n",
       "    .dataframe tbody tr th:only-of-type {\n",
       "        vertical-align: middle;\n",
       "    }\n",
       "\n",
       "    .dataframe tbody tr th {\n",
       "        vertical-align: top;\n",
       "    }\n",
       "\n",
       "    .dataframe thead th {\n",
       "        text-align: right;\n",
       "    }\n",
       "</style>\n",
       "<table border=\"1\" class=\"dataframe\">\n",
       "  <thead>\n",
       "    <tr style=\"text-align: right;\">\n",
       "      <th></th>\n",
       "      <th>show_id</th>\n",
       "      <th>type</th>\n",
       "      <th>title</th>\n",
       "      <th>director</th>\n",
       "      <th>cast</th>\n",
       "      <th>country</th>\n",
       "      <th>date_added</th>\n",
       "      <th>release_year</th>\n",
       "      <th>duration</th>\n",
       "      <th>description</th>\n",
       "      <th>genre</th>\n",
       "    </tr>\n",
       "  </thead>\n",
       "  <tbody>\n",
       "    <tr>\n",
       "      <th>0</th>\n",
       "      <td>s2</td>\n",
       "      <td>Movie</td>\n",
       "      <td>7:19</td>\n",
       "      <td>Jorge Michel Grau</td>\n",
       "      <td>\"Demián Bichir, Héctor Bonilla, Oscar Serrano,...</td>\n",
       "      <td>Mexico</td>\n",
       "      <td>\"December 23, 2016\"</td>\n",
       "      <td>2016</td>\n",
       "      <td>93</td>\n",
       "      <td>\"After a devastating earthquake hits Mexico Ci...</td>\n",
       "      <td>Dramas</td>\n",
       "    </tr>\n",
       "    <tr>\n",
       "      <th>1</th>\n",
       "      <td>s3</td>\n",
       "      <td>Movie</td>\n",
       "      <td>23:59</td>\n",
       "      <td>Gilbert Chan</td>\n",
       "      <td>\"Tedd Chan, Stella Chung, Henley Hii, Lawrence...</td>\n",
       "      <td>Singapore</td>\n",
       "      <td>\"December 20, 2018\"</td>\n",
       "      <td>2011</td>\n",
       "      <td>78</td>\n",
       "      <td>\"When an army recruit is found dead, his fello...</td>\n",
       "      <td>Horror Movies</td>\n",
       "    </tr>\n",
       "    <tr>\n",
       "      <th>2</th>\n",
       "      <td>s4</td>\n",
       "      <td>Movie</td>\n",
       "      <td>9</td>\n",
       "      <td>Shane Acker</td>\n",
       "      <td>\"Elijah Wood, John C. Reilly, Jennifer Connell...</td>\n",
       "      <td>United States</td>\n",
       "      <td>\"November 16, 2017\"</td>\n",
       "      <td>2009</td>\n",
       "      <td>80</td>\n",
       "      <td>\"In a postapocalyptic world, rag-doll robots h...</td>\n",
       "      <td>Action</td>\n",
       "    </tr>\n",
       "    <tr>\n",
       "      <th>3</th>\n",
       "      <td>s5</td>\n",
       "      <td>Movie</td>\n",
       "      <td>21</td>\n",
       "      <td>Robert Luketic</td>\n",
       "      <td>\"Jim Sturgess, Kevin Spacey, Kate Bosworth, Aa...</td>\n",
       "      <td>United States</td>\n",
       "      <td>\"January 1, 2020\"</td>\n",
       "      <td>2008</td>\n",
       "      <td>123</td>\n",
       "      <td>A brilliant group of students become card-coun...</td>\n",
       "      <td>Dramas</td>\n",
       "    </tr>\n",
       "    <tr>\n",
       "      <th>4</th>\n",
       "      <td>s6</td>\n",
       "      <td>TV Show</td>\n",
       "      <td>46</td>\n",
       "      <td>Serdar Akar</td>\n",
       "      <td>\"Erdal Beşikçioğlu, Yasemin Allen, Melis Birka...</td>\n",
       "      <td>Turkey</td>\n",
       "      <td>\"July 1, 2017\"</td>\n",
       "      <td>2016</td>\n",
       "      <td>1</td>\n",
       "      <td>\"A genetics professor experiments with a treat...</td>\n",
       "      <td>International TV</td>\n",
       "    </tr>\n",
       "    <tr>\n",
       "      <th>...</th>\n",
       "      <td>...</td>\n",
       "      <td>...</td>\n",
       "      <td>...</td>\n",
       "      <td>...</td>\n",
       "      <td>...</td>\n",
       "      <td>...</td>\n",
       "      <td>...</td>\n",
       "      <td>...</td>\n",
       "      <td>...</td>\n",
       "      <td>...</td>\n",
       "      <td>...</td>\n",
       "    </tr>\n",
       "    <tr>\n",
       "      <th>4807</th>\n",
       "      <td>s7779</td>\n",
       "      <td>Movie</td>\n",
       "      <td>Zombieland</td>\n",
       "      <td>Ruben Fleischer</td>\n",
       "      <td>\"Jesse Eisenberg, Woody Harrelson, Emma Stone,...</td>\n",
       "      <td>United States</td>\n",
       "      <td>\"November 1, 2019\"</td>\n",
       "      <td>2009</td>\n",
       "      <td>88</td>\n",
       "      <td>\"Looking to survive in a world taken over by z...</td>\n",
       "      <td>Comedies</td>\n",
       "    </tr>\n",
       "    <tr>\n",
       "      <th>4808</th>\n",
       "      <td>s7781</td>\n",
       "      <td>Movie</td>\n",
       "      <td>Zoo</td>\n",
       "      <td>Shlok Sharma</td>\n",
       "      <td>\"Shashank Arora, Shweta Tripathi, Rahul Kumar,...</td>\n",
       "      <td>India</td>\n",
       "      <td>\"July 1, 2018\"</td>\n",
       "      <td>2018</td>\n",
       "      <td>94</td>\n",
       "      <td>\"A drug dealer starts having doubts about his ...</td>\n",
       "      <td>Dramas</td>\n",
       "    </tr>\n",
       "    <tr>\n",
       "      <th>4809</th>\n",
       "      <td>s7782</td>\n",
       "      <td>Movie</td>\n",
       "      <td>Zoom</td>\n",
       "      <td>Peter Hewitt</td>\n",
       "      <td>\"Tim Allen, Courteney Cox, Chevy Chase, Kate M...</td>\n",
       "      <td>United States</td>\n",
       "      <td>\"January 11, 2020\"</td>\n",
       "      <td>2006</td>\n",
       "      <td>88</td>\n",
       "      <td>\"Dragged from civilian life, a former superher...</td>\n",
       "      <td>Children</td>\n",
       "    </tr>\n",
       "    <tr>\n",
       "      <th>4810</th>\n",
       "      <td>s7783</td>\n",
       "      <td>Movie</td>\n",
       "      <td>Zozo</td>\n",
       "      <td>Josef Fares</td>\n",
       "      <td>\"Imad Creidi, Antoinette Turk, Elias Gergi, Ca...</td>\n",
       "      <td>Sweden</td>\n",
       "      <td>\"October 19, 2020\"</td>\n",
       "      <td>2005</td>\n",
       "      <td>99</td>\n",
       "      <td>\"When Lebanon's Civil War deprives Zozo of his...</td>\n",
       "      <td>Dramas</td>\n",
       "    </tr>\n",
       "    <tr>\n",
       "      <th>4811</th>\n",
       "      <td>s7784</td>\n",
       "      <td>Movie</td>\n",
       "      <td>Zubaan</td>\n",
       "      <td>Mozez Singh</td>\n",
       "      <td>\"Vicky Kaushal, Sarah-Jane Dias, Raaghav Chana...</td>\n",
       "      <td>India</td>\n",
       "      <td>\"March 2, 2019\"</td>\n",
       "      <td>2015</td>\n",
       "      <td>111</td>\n",
       "      <td>\"A scrappy but poor boy worms his way into a t...</td>\n",
       "      <td>Dramas</td>\n",
       "    </tr>\n",
       "  </tbody>\n",
       "</table>\n",
       "<p>4812 rows × 11 columns</p>\n",
       "</div>"
      ],
      "text/plain": [
       "     show_id     type       title           director  \\\n",
       "0         s2    Movie        7:19  Jorge Michel Grau   \n",
       "1         s3    Movie       23:59       Gilbert Chan   \n",
       "2         s4    Movie           9        Shane Acker   \n",
       "3         s5    Movie          21     Robert Luketic   \n",
       "4         s6  TV Show          46        Serdar Akar   \n",
       "...      ...      ...         ...                ...   \n",
       "4807   s7779    Movie  Zombieland    Ruben Fleischer   \n",
       "4808   s7781    Movie         Zoo       Shlok Sharma   \n",
       "4809   s7782    Movie        Zoom       Peter Hewitt   \n",
       "4810   s7783    Movie        Zozo        Josef Fares   \n",
       "4811   s7784    Movie      Zubaan        Mozez Singh   \n",
       "\n",
       "                                                   cast        country  \\\n",
       "0     \"Demián Bichir, Héctor Bonilla, Oscar Serrano,...         Mexico   \n",
       "1     \"Tedd Chan, Stella Chung, Henley Hii, Lawrence...      Singapore   \n",
       "2     \"Elijah Wood, John C. Reilly, Jennifer Connell...  United States   \n",
       "3     \"Jim Sturgess, Kevin Spacey, Kate Bosworth, Aa...  United States   \n",
       "4     \"Erdal Beşikçioğlu, Yasemin Allen, Melis Birka...         Turkey   \n",
       "...                                                 ...            ...   \n",
       "4807  \"Jesse Eisenberg, Woody Harrelson, Emma Stone,...  United States   \n",
       "4808  \"Shashank Arora, Shweta Tripathi, Rahul Kumar,...          India   \n",
       "4809  \"Tim Allen, Courteney Cox, Chevy Chase, Kate M...  United States   \n",
       "4810  \"Imad Creidi, Antoinette Turk, Elias Gergi, Ca...         Sweden   \n",
       "4811  \"Vicky Kaushal, Sarah-Jane Dias, Raaghav Chana...          India   \n",
       "\n",
       "               date_added  release_year  duration  \\\n",
       "0     \"December 23, 2016\"          2016        93   \n",
       "1     \"December 20, 2018\"          2011        78   \n",
       "2     \"November 16, 2017\"          2009        80   \n",
       "3       \"January 1, 2020\"          2008       123   \n",
       "4          \"July 1, 2017\"          2016         1   \n",
       "...                   ...           ...       ...   \n",
       "4807   \"November 1, 2019\"          2009        88   \n",
       "4808       \"July 1, 2018\"          2018        94   \n",
       "4809   \"January 11, 2020\"          2006        88   \n",
       "4810   \"October 19, 2020\"          2005        99   \n",
       "4811      \"March 2, 2019\"          2015       111   \n",
       "\n",
       "                                            description             genre  \n",
       "0     \"After a devastating earthquake hits Mexico Ci...            Dramas  \n",
       "1     \"When an army recruit is found dead, his fello...     Horror Movies  \n",
       "2     \"In a postapocalyptic world, rag-doll robots h...            Action  \n",
       "3     A brilliant group of students become card-coun...            Dramas  \n",
       "4     \"A genetics professor experiments with a treat...  International TV  \n",
       "...                                                 ...               ...  \n",
       "4807  \"Looking to survive in a world taken over by z...          Comedies  \n",
       "4808  \"A drug dealer starts having doubts about his ...            Dramas  \n",
       "4809  \"Dragged from civilian life, a former superher...          Children  \n",
       "4810  \"When Lebanon's Civil War deprives Zozo of his...            Dramas  \n",
       "4811  \"A scrappy but poor boy worms his way into a t...            Dramas  \n",
       "\n",
       "[4812 rows x 11 columns]"
      ]
     },
     "execution_count": 6,
     "metadata": {},
     "output_type": "execute_result"
    }
   ],
   "source": [
    "import pandas as pd\n",
    "import matplotlib.pyplot as plt\n",
    "import seaborn as sns\n",
    "\n",
    "df = pd.read_csv('movies.csv')\n",
    "\n",
    "df"
   ]
  },
  {
   "cell_type": "code",
   "execution_count": 7,
   "id": "7545b742",
   "metadata": {},
   "outputs": [
    {
     "name": "stdout",
     "output_type": "stream",
     "text": [
      "The most frequent movie duration in the 1990s was 94 minutes.\n"
     ]
    }
   ],
   "source": [
    "df[(df[\"type\"] == \"Movie\") & (df['genre'] == 'Action')]\n",
    "df_1990 = df[(df['release_year'] >= 1990) & (df['release_year'] < 2000)]\n",
    "most_frequent_duration = df_1990s['duration'].mode()[0]\n",
    "duration = int(most_frequent_duration)\n",
    "print(f\"The most frequent movie duration in the 1990s was {duration} minutes.\")\n"
   ]
  },
  {
   "cell_type": "code",
   "execution_count": 8,
   "id": "1ec922aa",
   "metadata": {},
   "outputs": [
    {
     "data": {
      "text/plain": [
       "<matplotlib.legend.Legend at 0x1a32787fe10>"
      ]
     },
     "execution_count": 8,
     "metadata": {},
     "output_type": "execute_result"
    },
    {
     "data": {
      "image/png": "[encoded data removed]",
      "text/plain": [
       "<Figure size 640x480 with 1 Axes>"
      ]
     },
     "metadata": {},
     "output_type": "display_data"
    }
   ],
   "source": [
    "sns.histplot(df_1990['duration'])\n",
    "plt.axvline(most_frequent_duration ,color='r',linestyle='--'\n",
    "            , label=f'Most Frequent Duration: {most_frequent_duration} min')\n",
    "plt.title(\"Distribution of Movie Durations (1990s)\")\n",
    "plt.xlabel(\"Duration(minutes)\")\n",
    "plt.ylabel(\"frequency\")\n",
    "plt.legend()\n"
   ]
  },
  {
   "cell_type": "code",
   "execution_count": 9,
   "id": "b49f91b6",
   "metadata": {},
   "outputs": [
    {
     "name": "stdout",
     "output_type": "stream",
     "text": [
      "The number of short action movies released in the 1990s is: 7\n"
     ]
    }
   ],
   "source": [
    "# Count short action movies (less than 90 minutes)\n",
    "short_movies = df_1990[df_1990['duration'] < 90]\n",
    "short_action_movies = short_movies[short_movies['genre'].str.contains('Action', case=False, na=False)]\n",
    "short_movie_count = short_action_movies.shape[0]\n",
    "\n",
    "# Save the results\n",
    "print(f\"The number of short action movies released in the 1990s is: {short_movie_count}\")"
   ]
  },
  {
   "cell_type": "code",
   "execution_count": 10,
   "id": "83546a28",
   "metadata": {},
   "outputs": [
    {
     "data": {
      "text/plain": [
       "<matplotlib.legend.Legend at 0x1a327905650>"
      ]
     },
     "execution_count": 10,
     "metadata": {},
     "output_type": "execute_result"
    },
    {
     "data": {
      "image/png": "[encoded data removed]",
      "text/plain": [
       "<Figure size 640x480 with 1 Axes>"
      ]
     },
     "metadata": {},
     "output_type": "display_data"
    }
   ],
   "source": [
    "sns.histplot(df_1990['duration'])\n",
    "plt.axvline(short_movie_count ,color='r',linestyle='--'\n",
    "            , label=f'short action movies released in the 1990s: {short_movie_count} min')\n",
    "plt.title(\"Distribution of Movie Durations (1990s)\")\n",
    "plt.xlabel(\"Duration(minutes)\")\n",
    "plt.ylabel(\"count\")\n",
    "plt.legend()\n"
   ]
  },
  {
   "cell_type": "code",
   "execution_count": null,
   "id": "c6d41253",
   "metadata": {},
   "outputs": [],
   "source": []
  },
  {
   "cell_type": "code",
   "execution_count": null,
   "id": "3326ee5f",
   "metadata": {},
   "outputs": [],
   "source": []
  },
  {
   "cell_type": "code",
   "execution_count": null,
   "id": "994a44f3",
   "metadata": {},
   "outputs": [],
   "source": []
  }
 ],
 "metadata": {
  "kernelspec": {
   "display_name": "Python 3 (ipykernel)",
   "language": "python",
   "name": "python3"
  },
  "language_info": {
   "codemirror_mode": {
    "name": "ipython",
    "version": 3
   },
   "file_extension": ".py",
   "mimetype": "text/x-python",
   "name": "python",
   "nbconvert_exporter": "python",
   "pygments_lexer": "ipython3",
   "version": "3.12.4"
  }
 },
 "nbformat": 4,
 "nbformat_minor": 5
}
